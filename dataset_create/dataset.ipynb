{
 "cells": [
  {
   "cell_type": "code",
   "execution_count": 1,
   "metadata": {},
   "outputs": [],
   "source": [
    "import pandas as pd\n",
    "import numpy as np\n",
    "import matplotlib.pyplot as plt\n",
    "import os\n",
    "import pywt\n",
    "import shutil\n",
    "import os\n"
   ]
  },
  {
   "cell_type": "code",
   "execution_count": 2,
   "metadata": {},
   "outputs": [
    {
     "name": "stdout",
     "output_type": "stream",
     "text": [
      "15200\n"
     ]
    }
   ],
   "source": [
    "data=pd.read_csv('IBM.csv')\n",
    "daily=np.array(data)\n",
    "window_size=400\n",
    "daily = daily[(len(daily)%window_size):]\n",
    "print(len(daily))"
   ]
  },
  {
   "cell_type": "code",
   "execution_count": 3,
   "metadata": {},
   "outputs": [],
   "source": [
    "list1=[]\n",
    "for i in range(0,len(daily)//window_size):\n",
    "    list1.append(daily[i*window_size:i*window_size+window_size].reshape(1,-1)[0])\n",
    "list1=np.array(list1)"
   ]
  },
  {
   "cell_type": "code",
   "execution_count": 4,
   "metadata": {},
   "outputs": [],
   "source": [
    "list2=[]\n",
    "for i in list1:\n",
    "    list3=[]\n",
    "    for j in range(0,len(i)//4):\n",
    "        list3.append(np.average(i[j*4:j*4+4]))\n",
    "    list2.append(np.array(list3).reshape(1,-1)[0])\n",
    "list2=np.array(list2)"
   ]
  },
  {
   "cell_type": "code",
   "execution_count": 5,
   "metadata": {},
   "outputs": [],
   "source": [
    "cwthr=[]\n",
    "cwtlr=[]\n",
    "spechr=[]\n",
    "speclr=[]"
   ]
  },
  {
   "cell_type": "code",
   "execution_count": 8,
   "metadata": {},
   "outputs": [],
   "source": [
    "from PIL import Image\n",
    "for i in range(len(list1)):\n",
    "    cwtmatr, freqs = pywt.cwt(np.array(list1[i]).reshape(1,-1)[0].T, wavelet='morl',scales= np.arange(1, window_size//4+1))\n",
    "    spectrogram = (np.abs(cwtmatr))\n",
    "    spectrogram = (spectrogram - np.min(spectrogram)) / (np.max(spectrogram) - np.min(spectrogram))\n",
    "    cwthr.append(cwtmatr)\n",
    "    spechr.append(spectrogram)\n",
    "    fname=os.getcwd()+f\"\\HR\\{i}.tiff\"\n",
    "    plt.imsave(fname, cwtmatr, cmap='gray')\n",
    "#    Image.fromarray(spectrogram).save(os.getcwd()+f\"\\HR_float\\{i}.tiff\")"
   ]
  },
  {
   "cell_type": "code",
   "execution_count": 9,
   "metadata": {},
   "outputs": [],
   "source": [
    "from PIL import Image\n",
    "for i in range(len(list2)):\n",
    "    cwtmatr, freqs = pywt.cwt(np.array(list2[i]).reshape(1,-1)[0].T, wavelet='morl',scales= np.arange(1, window_size//16+1))\n",
    "    spectrogram = (np.abs(cwtmatr))\n",
    "    spectrogram = (spectrogram - np.min(spectrogram)) / (np.max(spectrogram) - np.min(spectrogram))\n",
    "    cwtlr.append(cwtmatr)\n",
    "    speclr.append(spectrogram)\n",
    "    fname=os.getcwd()+f\"\\LR\\{i}.tiff\"\n",
    "    plt.imsave(fname,cwtmatr,cmap='gray')\n",
    "#    Image.fromarray(spectrogram).save(os.getcwd()+f\"\\LR_float\\{i}.tiff\")\n",
    "\n"
   ]
  },
  {
   "cell_type": "code",
   "execution_count": 50,
   "metadata": {},
   "outputs": [],
   "source": [
    "train_test_split_ratio=0.7\n",
    "for i in range(round(train_test_split_ratio*len(list1))):\n",
    "    fname=os.getcwd()+f\"\\HR\\{i}.tiff\"\n",
    "    shutil.copy(fname, os.getcwd()+f\"\\\\train_HR\")\n",
    "for i in range(round(train_test_split_ratio*len(list2))):\n",
    "    fname=os.getcwd()+f\"\\LR\\{i}.tiff\"\n",
    "    shutil.copy(fname, os.getcwd()+f\"\\\\train_LR\")\n"
   ]
  }
 ],
 "metadata": {
  "kernelspec": {
   "display_name": "Python 3",
   "language": "python",
   "name": "python3"
  },
  "language_info": {
   "codemirror_mode": {
    "name": "ipython",
    "version": 3
   },
   "file_extension": ".py",
   "mimetype": "text/x-python",
   "name": "python",
   "nbconvert_exporter": "python",
   "pygments_lexer": "ipython3",
   "version": "3.11.3"
  },
  "orig_nbformat": 4,
  "vscode": {
   "interpreter": {
    "hash": "2b373bdf07e87e9716b3fbbaf7d5e2358ba8b2b8f113681bcea06cbd0a158d46"
   }
  }
 },
 "nbformat": 4,
 "nbformat_minor": 2
}
